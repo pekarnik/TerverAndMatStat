{
 "cells": [
  {
   "cell_type": "markdown",
   "id": "8bb4b2ca",
   "metadata": {},
   "source": [
    "# Урок 3. Описательная статистика. Качественные и количественные характеристики популяции. Графическое представление данных"
   ]
  },
  {
   "cell_type": "markdown",
   "id": "cc15569a",
   "metadata": {},
   "source": [
    "## Задание 1."
   ]
  },
  {
   "cell_type": "markdown",
   "id": "52769b30",
   "metadata": {},
   "source": [
    "### Даны значения зарплат из выборки выпускников: 100, 80, 75, 77, 89, 33, 45, 25, 65, 17, 30, 24, 57, 55, 70, 75, 65, 84, 90, 150. Посчитать (желательно без использования статистических методов наподобие std, var, mean) среднее арифметическое, среднее квадратичное отклонение, смещенную и несмещенную оценки дисперсий для данной выборки."
   ]
  },
  {
   "cell_type": "code",
   "execution_count": 1,
   "id": "d3c40539",
   "metadata": {},
   "outputs": [],
   "source": [
    "from math import factorial"
   ]
  },
  {
   "cell_type": "code",
   "execution_count": 2,
   "id": "5121cff4",
   "metadata": {},
   "outputs": [],
   "source": [
    "array = [100, 80, 75, 77, 89, 33, 45, 25, 65, 17, 30, 24, 57, 55, 70, 75, 65, 84, 90, 150]"
   ]
  },
  {
   "cell_type": "code",
   "execution_count": 3,
   "id": "8cf2c878",
   "metadata": {},
   "outputs": [],
   "source": [
    "\n",
    "\n",
    "def arithmetic_mean(arr):\n",
    "    return sum(arr)/len(arr)"
   ]
  },
  {
   "cell_type": "code",
   "execution_count": 4,
   "id": "ffc7284e",
   "metadata": {},
   "outputs": [
    {
     "data": {
      "text/plain": [
       "65.3"
      ]
     },
     "execution_count": 4,
     "metadata": {},
     "output_type": "execute_result"
    }
   ],
   "source": [
    "arithmetic_mean(array)"
   ]
  },
  {
   "cell_type": "code",
   "execution_count": 5,
   "id": "4f245af7",
   "metadata": {},
   "outputs": [],
   "source": [
    "def standard_quadratic_deviation(arr):\n",
    "    mean = arithmetic_mean(arr)\n",
    "    sum_nums = 0\n",
    "    for i in arr:\n",
    "        sum_nums = sum_nums + (i-mean)**2 \n",
    "    return pow(sum_nums/len(arr), 0.5)"
   ]
  },
  {
   "cell_type": "code",
   "execution_count": 6,
   "id": "2e0af82c",
   "metadata": {},
   "outputs": [
    {
     "data": {
      "text/plain": [
       "30.823854398825596"
      ]
     },
     "execution_count": 6,
     "metadata": {},
     "output_type": "execute_result"
    }
   ],
   "source": [
    "standard_quadratic_deviation(array)"
   ]
  },
  {
   "cell_type": "code",
   "execution_count": 7,
   "id": "5bd80b34",
   "metadata": {},
   "outputs": [],
   "source": [
    "def dispertion_offset(arr):\n",
    "    return pow(standard_quadratic_deviation(arr), 2)"
   ]
  },
  {
   "cell_type": "code",
   "execution_count": 8,
   "id": "a2f4c4a7",
   "metadata": {},
   "outputs": [
    {
     "data": {
      "text/plain": [
       "950.11"
      ]
     },
     "execution_count": 8,
     "metadata": {},
     "output_type": "execute_result"
    }
   ],
   "source": [
    "dispertion_offset(array)"
   ]
  },
  {
   "cell_type": "code",
   "execution_count": 9,
   "id": "85e9b453",
   "metadata": {},
   "outputs": [],
   "source": [
    "def dispertion_not_offset(arr):\n",
    "    mean = arithmetic_mean(arr)\n",
    "    sum_nums = 0\n",
    "    for i in arr:\n",
    "        sum_nums = sum_nums + (i-mean)**2 \n",
    "    return sum_nums/(len(arr) - 1)"
   ]
  },
  {
   "cell_type": "code",
   "execution_count": 10,
   "id": "414b18dc",
   "metadata": {},
   "outputs": [
    {
     "data": {
      "text/plain": [
       "1000.1157894736842"
      ]
     },
     "execution_count": 10,
     "metadata": {},
     "output_type": "execute_result"
    }
   ],
   "source": [
    "dispertion_not_offset(array)"
   ]
  },
  {
   "cell_type": "markdown",
   "id": "1b036fc7",
   "metadata": {},
   "source": [
    "## Задание 2."
   ]
  },
  {
   "cell_type": "markdown",
   "id": "1dcb913b",
   "metadata": {},
   "source": [
    "### В первом ящике находится 8 мячей, из которых 5 - белые. Во втором ящике - 12 мячей, из которых 5 белых. Из первого ящика вытаскивают случайным образом два мяча, из второго - 4. Какова вероятность того, что 3 мяча белые?"
   ]
  },
  {
   "cell_type": "code",
   "execution_count": 11,
   "id": "3f61aa28",
   "metadata": {},
   "outputs": [],
   "source": [
    "len_1 = 8"
   ]
  },
  {
   "cell_type": "code",
   "execution_count": 12,
   "id": "f4c9728a",
   "metadata": {},
   "outputs": [],
   "source": [
    "len_2 = 12"
   ]
  },
  {
   "cell_type": "code",
   "execution_count": 13,
   "id": "9b5f05ae",
   "metadata": {},
   "outputs": [],
   "source": [
    "len_1_white = 5"
   ]
  },
  {
   "cell_type": "code",
   "execution_count": 14,
   "id": "26cd6e7f",
   "metadata": {},
   "outputs": [],
   "source": [
    "len_2_white = 5"
   ]
  },
  {
   "cell_type": "code",
   "execution_count": 15,
   "id": "3d261301",
   "metadata": {},
   "outputs": [],
   "source": [
    "def combinations(n, k):\n",
    "    return int(factorial(n) / (factorial(k) * factorial(n - k)))"
   ]
  },
  {
   "cell_type": "code",
   "execution_count": 20,
   "id": "c3d0fdc0",
   "metadata": {},
   "outputs": [],
   "source": [
    "PA11 = combinations(5,2) * combinations(3,0)/combinations(8,2)\n",
    "PA12 = combinations(5,1) * combinations(7,3) / combinations(12,4)\n",
    "PA21 = combinations(5,1)  * combinations(3,1)  / combinations(8,2) \n",
    "PА22 = combinations(5,2)  * combinations(7,2)  / combinations(12,4) \n",
    "PA31 = combinations(5,0) * combinations(3,2)  / combinations(8,2) \n",
    "PA32 = combinations(5,3)  * combinations(7,1)  / combinations(12,4) "
   ]
  },
  {
   "cell_type": "code",
   "execution_count": 21,
   "id": "1fa31118",
   "metadata": {},
   "outputs": [
    {
     "data": {
      "text/plain": [
       "0.3686868686868687"
      ]
     },
     "execution_count": 21,
     "metadata": {},
     "output_type": "execute_result"
    }
   ],
   "source": [
    "PA = PA11 * PA12 + PA21 * PА22 + PA31 * PA32\n",
    "PA"
   ]
  },
  {
   "cell_type": "markdown",
   "id": "e008bfe5",
   "metadata": {},
   "source": [
    "## Задание 3."
   ]
  },
  {
   "cell_type": "markdown",
   "id": "121d51ce",
   "metadata": {},
   "source": [
    "### На соревновании по биатлону один из трех спортсменов стреляет и попадает в мишень. Вероятность попадания для первого спортсмена равна 0.9, для второго — 0.8, для третьего — 0.6. Найти вероятность того, что выстрел произведен: a). первым спортсменом б). вторым спортсменом в). третьим спортсменом."
   ]
  },
  {
   "cell_type": "code",
   "execution_count": 22,
   "id": "b6988cf8",
   "metadata": {},
   "outputs": [
    {
     "data": {
      "text/plain": [
       "0.7666666666666666"
      ]
     },
     "execution_count": 22,
     "metadata": {},
     "output_type": "execute_result"
    }
   ],
   "source": [
    "PA = 1 / 3 * 0.9 + 1 / 3 * 0.8 + 1 / 3 * 0.6\n",
    "PA"
   ]
  },
  {
   "cell_type": "code",
   "execution_count": 23,
   "id": "674bb840",
   "metadata": {},
   "outputs": [
    {
     "data": {
      "text/plain": [
       "0.391304347826087"
      ]
     },
     "execution_count": 23,
     "metadata": {},
     "output_type": "execute_result"
    }
   ],
   "source": [
    "\n",
    "PA1 = 1 / 3 * 0.9 / PA\n",
    "PA1"
   ]
  },
  {
   "cell_type": "code",
   "execution_count": 24,
   "id": "93f08bc9",
   "metadata": {},
   "outputs": [
    {
     "data": {
      "text/plain": [
       "0.3478260869565218"
      ]
     },
     "execution_count": 24,
     "metadata": {},
     "output_type": "execute_result"
    }
   ],
   "source": [
    "PA2 = 1 / 3 * 0.8 / PA\n",
    "PA2"
   ]
  },
  {
   "cell_type": "code",
   "execution_count": 25,
   "id": "33dc8a09",
   "metadata": {},
   "outputs": [
    {
     "data": {
      "text/plain": [
       "0.2608695652173913"
      ]
     },
     "execution_count": 25,
     "metadata": {},
     "output_type": "execute_result"
    }
   ],
   "source": [
    "\n",
    "PA3 = 1 / 3 * 0.6 / PA\n",
    "PA3"
   ]
  },
  {
   "cell_type": "markdown",
   "id": "76a0bee0",
   "metadata": {},
   "source": [
    "## Задание 4."
   ]
  },
  {
   "cell_type": "markdown",
   "id": "a14e4839",
   "metadata": {},
   "source": [
    "### В университет на факультеты A и B поступило равное количество студентов, а на факультет C студентов поступило столько же, сколько на A и B вместе. Вероятность того, что студент факультета A сдаст первую сессию, равна 0.8. Для студента факультета B эта вероятность равна 0.7, а для студента факультета C - 0.9. Студент сдал первую сессию. Какова вероятность, что он учится: a). на факультете A б). на факультете B в). на факультете C?"
   ]
  },
  {
   "cell_type": "code",
   "execution_count": 26,
   "id": "ab3604f8",
   "metadata": {},
   "outputs": [
    {
     "data": {
      "text/plain": [
       "0.825"
      ]
     },
     "execution_count": 26,
     "metadata": {},
     "output_type": "execute_result"
    }
   ],
   "source": [
    "PA = 1 / 4 * 0.8 + 1 / 4 * 0.7 + 2 / 4 * 0.9\n",
    "PA"
   ]
  },
  {
   "cell_type": "code",
   "execution_count": 27,
   "id": "348bdc2e",
   "metadata": {},
   "outputs": [
    {
     "data": {
      "text/plain": [
       "0.24242424242424246"
      ]
     },
     "execution_count": 27,
     "metadata": {},
     "output_type": "execute_result"
    }
   ],
   "source": [
    "PA1 = 1 / 4 * 0.8 / PA\n",
    "PA1"
   ]
  },
  {
   "cell_type": "code",
   "execution_count": 28,
   "id": "8e6937e6",
   "metadata": {},
   "outputs": [
    {
     "data": {
      "text/plain": [
       "0.21212121212121213"
      ]
     },
     "execution_count": 28,
     "metadata": {},
     "output_type": "execute_result"
    }
   ],
   "source": [
    "PA2 = 1 / 4 * 0.7 / PA\n",
    "PA2"
   ]
  },
  {
   "cell_type": "code",
   "execution_count": 29,
   "id": "da92dcf4",
   "metadata": {},
   "outputs": [
    {
     "data": {
      "text/plain": [
       "0.5454545454545455"
      ]
     },
     "execution_count": 29,
     "metadata": {},
     "output_type": "execute_result"
    }
   ],
   "source": [
    "PA3 = 2 / 4 * 0.9 / PA\n",
    "PA3"
   ]
  },
  {
   "cell_type": "markdown",
   "id": "207dec58",
   "metadata": {},
   "source": [
    "## Задание 5."
   ]
  },
  {
   "cell_type": "markdown",
   "id": "d402a867",
   "metadata": {},
   "source": [
    "### Устройство состоит из трех деталей. Для первой детали вероятность выйти из строя в первый месяц равна 0.1, для второй - 0.2, для третьей - 0.25. Какова вероятность того, что в первый месяц выйдут из строя: а). все детали б). только две детали в). хотя бы одна деталь г). от одной до двух деталей?"
   ]
  },
  {
   "cell_type": "code",
   "execution_count": 30,
   "id": "bf7e3039",
   "metadata": {},
   "outputs": [],
   "source": [
    "A1 = 0.1"
   ]
  },
  {
   "cell_type": "code",
   "execution_count": 31,
   "id": "48682de9",
   "metadata": {},
   "outputs": [],
   "source": [
    "A2 = 0.2"
   ]
  },
  {
   "cell_type": "code",
   "execution_count": 32,
   "id": "6ee7a64c",
   "metadata": {},
   "outputs": [],
   "source": [
    "A3 = 0.25"
   ]
  },
  {
   "cell_type": "code",
   "execution_count": 33,
   "id": "b674d713",
   "metadata": {},
   "outputs": [],
   "source": [
    "P1 = A1 * A2 * A3"
   ]
  },
  {
   "cell_type": "code",
   "execution_count": 34,
   "id": "800f7a2b",
   "metadata": {},
   "outputs": [
    {
     "data": {
      "text/plain": [
       "0.005000000000000001"
      ]
     },
     "execution_count": 34,
     "metadata": {},
     "output_type": "execute_result"
    }
   ],
   "source": [
    "P1"
   ]
  },
  {
   "cell_type": "code",
   "execution_count": 35,
   "id": "a7d70b4f",
   "metadata": {},
   "outputs": [],
   "source": [
    "P2 = A1*A2 + A2*A3 + A1*A3"
   ]
  },
  {
   "cell_type": "code",
   "execution_count": 36,
   "id": "ab6c38c3",
   "metadata": {},
   "outputs": [
    {
     "data": {
      "text/plain": [
       "0.095"
      ]
     },
     "execution_count": 36,
     "metadata": {},
     "output_type": "execute_result"
    }
   ],
   "source": [
    "P2"
   ]
  },
  {
   "cell_type": "code",
   "execution_count": 37,
   "id": "5353598e",
   "metadata": {},
   "outputs": [],
   "source": [
    "P3 = A1 + A2 + A3"
   ]
  },
  {
   "cell_type": "code",
   "execution_count": 38,
   "id": "84c24500",
   "metadata": {},
   "outputs": [
    {
     "data": {
      "text/plain": [
       "0.55"
      ]
     },
     "execution_count": 38,
     "metadata": {},
     "output_type": "execute_result"
    }
   ],
   "source": [
    "P3"
   ]
  },
  {
   "cell_type": "code",
   "execution_count": 39,
   "id": "9901c8c0",
   "metadata": {},
   "outputs": [],
   "source": [
    "P4 = P3 + P2"
   ]
  },
  {
   "cell_type": "code",
   "execution_count": 40,
   "id": "8a3154b0",
   "metadata": {},
   "outputs": [
    {
     "data": {
      "text/plain": [
       "0.645"
      ]
     },
     "execution_count": 40,
     "metadata": {},
     "output_type": "execute_result"
    }
   ],
   "source": [
    "P4"
   ]
  },
  {
   "cell_type": "code",
   "execution_count": null,
   "id": "12685797",
   "metadata": {},
   "outputs": [],
   "source": []
  }
 ],
 "metadata": {
  "kernelspec": {
   "display_name": "Python 3",
   "language": "python",
   "name": "python3"
  },
  "language_info": {
   "codemirror_mode": {
    "name": "ipython",
    "version": 3
   },
   "file_extension": ".py",
   "mimetype": "text/x-python",
   "name": "python",
   "nbconvert_exporter": "python",
   "pygments_lexer": "ipython3",
   "version": "3.7.1rc1"
  }
 },
 "nbformat": 4,
 "nbformat_minor": 5
}
