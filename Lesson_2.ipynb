{
 "cells": [
  {
   "cell_type": "markdown",
   "id": "d2923aa7",
   "metadata": {},
   "source": [
    "# Урок 2. Дискретные случайные величины. Закон распределения вероятностей. Биномиальный закон распределения. Распределение Пуассона"
   ]
  },
  {
   "cell_type": "markdown",
   "id": "e8c26698",
   "metadata": {},
   "source": [
    "## Задание 1."
   ]
  },
  {
   "cell_type": "markdown",
   "id": "f3e4f9dd",
   "metadata": {},
   "source": [
    "### Вероятность того, что стрелок попадет в мишень, выстрелив один раз, равна 0.8. Стрелок выстрелил 100 раз. Найдите вероятность того, что стрелок попадет в цель ровно 85 раз."
   ]
  },
  {
   "cell_type": "code",
   "execution_count": 1,
   "id": "c3bc8bdb",
   "metadata": {},
   "outputs": [],
   "source": [
    "from math import factorial"
   ]
  },
  {
   "cell_type": "code",
   "execution_count": 2,
   "id": "021155d1",
   "metadata": {},
   "outputs": [],
   "source": [
    "import numpy as np"
   ]
  },
  {
   "cell_type": "code",
   "execution_count": 3,
   "id": "222e7180",
   "metadata": {},
   "outputs": [],
   "source": [
    "def combinations(n, k):\n",
    "    return int(factorial(n) / (factorial(k) * factorial(n - k)))"
   ]
  },
  {
   "cell_type": "code",
   "execution_count": 4,
   "id": "e5a682cd",
   "metadata": {},
   "outputs": [],
   "source": [
    "p = 0.8"
   ]
  },
  {
   "cell_type": "code",
   "execution_count": 5,
   "id": "f144f74b",
   "metadata": {},
   "outputs": [],
   "source": [
    "q = 1 - p "
   ]
  },
  {
   "cell_type": "code",
   "execution_count": 6,
   "id": "092f770c",
   "metadata": {},
   "outputs": [],
   "source": [
    "res_1 = combinations(100, 85) * (p**85)*(q**15)"
   ]
  },
  {
   "cell_type": "code",
   "execution_count": 7,
   "id": "f0f89d67",
   "metadata": {},
   "outputs": [
    {
     "data": {
      "text/plain": [
       "0.048061793700746355"
      ]
     },
     "execution_count": 7,
     "metadata": {},
     "output_type": "execute_result"
    }
   ],
   "source": [
    "res_1"
   ]
  },
  {
   "cell_type": "markdown",
   "id": "b2ce45f6",
   "metadata": {},
   "source": [
    "## Задание 2."
   ]
  },
  {
   "cell_type": "markdown",
   "id": "92cbe117",
   "metadata": {},
   "source": [
    "### Вероятность того, что лампочка перегорит в течение первого дня эксплуатации, равна 0.0004. В жилом комплексе после ремонта в один день включили 5000 новых лампочек. Какова вероятность, что ни одна из них не перегорит в первый день? Какова вероятность, что перегорят ровно две?"
   ]
  },
  {
   "cell_type": "code",
   "execution_count": 8,
   "id": "525b6592",
   "metadata": {},
   "outputs": [],
   "source": [
    "p = 0.0004"
   ]
  },
  {
   "cell_type": "code",
   "execution_count": 9,
   "id": "a8e7c1fe",
   "metadata": {},
   "outputs": [],
   "source": [
    "count_lamps = 5000"
   ]
  },
  {
   "cell_type": "code",
   "execution_count": 10,
   "id": "a615deb3",
   "metadata": {},
   "outputs": [],
   "source": [
    "m = 0"
   ]
  },
  {
   "cell_type": "code",
   "execution_count": 11,
   "id": "eed2f720",
   "metadata": {},
   "outputs": [],
   "source": [
    "lam = count_lamps * p"
   ]
  },
  {
   "cell_type": "code",
   "execution_count": 12,
   "id": "3091f2da",
   "metadata": {},
   "outputs": [
    {
     "data": {
      "text/plain": [
       "2.0"
      ]
     },
     "execution_count": 12,
     "metadata": {},
     "output_type": "execute_result"
    }
   ],
   "source": [
    "lam"
   ]
  },
  {
   "cell_type": "code",
   "execution_count": 13,
   "id": "6650d649",
   "metadata": {},
   "outputs": [],
   "source": [
    "res = ((lam ** m)/factorial(m)) * np.exp(-lam)"
   ]
  },
  {
   "cell_type": "code",
   "execution_count": 14,
   "id": "6b5ac0f4",
   "metadata": {},
   "outputs": [
    {
     "data": {
      "text/plain": [
       "0.1353352832366127"
      ]
     },
     "execution_count": 14,
     "metadata": {},
     "output_type": "execute_result"
    }
   ],
   "source": [
    "res"
   ]
  },
  {
   "cell_type": "code",
   "execution_count": 15,
   "id": "89ac3256",
   "metadata": {},
   "outputs": [],
   "source": [
    "m = 2"
   ]
  },
  {
   "cell_type": "code",
   "execution_count": 16,
   "id": "09cd463e",
   "metadata": {},
   "outputs": [],
   "source": [
    "lam = count_lamps * p"
   ]
  },
  {
   "cell_type": "code",
   "execution_count": 17,
   "id": "3e777b3d",
   "metadata": {},
   "outputs": [
    {
     "data": {
      "text/plain": [
       "2.0"
      ]
     },
     "execution_count": 17,
     "metadata": {},
     "output_type": "execute_result"
    }
   ],
   "source": [
    "lam"
   ]
  },
  {
   "cell_type": "code",
   "execution_count": 18,
   "id": "3d914c2d",
   "metadata": {},
   "outputs": [],
   "source": [
    "res = ((lam ** m)/factorial(m)) * np.exp(-lam)"
   ]
  },
  {
   "cell_type": "code",
   "execution_count": 19,
   "id": "69882d69",
   "metadata": {},
   "outputs": [
    {
     "data": {
      "text/plain": [
       "0.2706705664732254"
      ]
     },
     "execution_count": 19,
     "metadata": {},
     "output_type": "execute_result"
    }
   ],
   "source": [
    "res"
   ]
  },
  {
   "cell_type": "markdown",
   "id": "e321f29b",
   "metadata": {},
   "source": [
    "## Задание 3."
   ]
  },
  {
   "cell_type": "markdown",
   "id": "3d9f9316",
   "metadata": {},
   "source": [
    "### Монету подбросили 144 раза. Какова вероятность, что орел выпадет ровно 70 раз?"
   ]
  },
  {
   "cell_type": "code",
   "execution_count": 20,
   "id": "f0ac6fb7",
   "metadata": {},
   "outputs": [],
   "source": [
    "count = 144"
   ]
  },
  {
   "cell_type": "code",
   "execution_count": 21,
   "id": "d47e6258",
   "metadata": {},
   "outputs": [],
   "source": [
    "p = 0.5"
   ]
  },
  {
   "cell_type": "code",
   "execution_count": 22,
   "id": "fb33a76e",
   "metadata": {},
   "outputs": [],
   "source": [
    "q = 0.5"
   ]
  },
  {
   "cell_type": "code",
   "execution_count": 23,
   "id": "b0baee1d",
   "metadata": {},
   "outputs": [],
   "source": [
    "m = 70"
   ]
  },
  {
   "cell_type": "code",
   "execution_count": 24,
   "id": "46a20295",
   "metadata": {},
   "outputs": [],
   "source": [
    "lam = count * p"
   ]
  },
  {
   "cell_type": "code",
   "execution_count": 25,
   "id": "96ec7531",
   "metadata": {},
   "outputs": [
    {
     "data": {
      "text/plain": [
       "72.0"
      ]
     },
     "execution_count": 25,
     "metadata": {},
     "output_type": "execute_result"
    }
   ],
   "source": [
    "lam"
   ]
  },
  {
   "cell_type": "code",
   "execution_count": 26,
   "id": "edc2b5d4",
   "metadata": {},
   "outputs": [],
   "source": [
    "res = combinations(count, m) * (p**m)*(q**(count-m))"
   ]
  },
  {
   "cell_type": "code",
   "execution_count": 27,
   "id": "8eac79ea",
   "metadata": {},
   "outputs": [
    {
     "data": {
      "text/plain": [
       "0.06281178035144776"
      ]
     },
     "execution_count": 27,
     "metadata": {},
     "output_type": "execute_result"
    }
   ],
   "source": [
    "res"
   ]
  },
  {
   "cell_type": "markdown",
   "id": "3e0851fb",
   "metadata": {},
   "source": [
    "## Задание 4."
   ]
  },
  {
   "cell_type": "markdown",
   "id": "b3802a03",
   "metadata": {},
   "source": [
    "### В первом ящике находится 10 мячей, из которых 7 - белые. Во втором ящике - 11 мячей, из которых 9 белых. Из каждого ящика вытаскивают случайным образом по два мяча. Какова вероятность того, что все мячи белые? Какова вероятность того, что ровно два мяча белые? Какова вероятность того, что хотя бы один мяч белый?"
   ]
  },
  {
   "cell_type": "code",
   "execution_count": 28,
   "id": "2373a924",
   "metadata": {},
   "outputs": [],
   "source": [
    "count_1 = 10"
   ]
  },
  {
   "cell_type": "code",
   "execution_count": 29,
   "id": "d398b8de",
   "metadata": {},
   "outputs": [],
   "source": [
    "count_1_white = 7"
   ]
  },
  {
   "cell_type": "code",
   "execution_count": 30,
   "id": "0452c0e4",
   "metadata": {},
   "outputs": [],
   "source": [
    "count_2 = 11"
   ]
  },
  {
   "cell_type": "code",
   "execution_count": 31,
   "id": "569b6a4c",
   "metadata": {},
   "outputs": [],
   "source": [
    "count_2_white = 9"
   ]
  },
  {
   "cell_type": "code",
   "execution_count": 32,
   "id": "e42b8410",
   "metadata": {},
   "outputs": [],
   "source": [
    "p_1_white = (count_1_white/count_1) *((count_1_white - 1)/(count_1 - 1))"
   ]
  },
  {
   "cell_type": "code",
   "execution_count": 33,
   "id": "f97c86a3",
   "metadata": {},
   "outputs": [],
   "source": [
    "p_2_white = (count_2_white/count_2) *((count_2_white - 1)/(count_2 - 1))"
   ]
  },
  {
   "cell_type": "code",
   "execution_count": 34,
   "id": "2da4ceac",
   "metadata": {},
   "outputs": [],
   "source": [
    "p_res = p_1_white * p_2_white"
   ]
  },
  {
   "cell_type": "code",
   "execution_count": 35,
   "id": "f1e2155e",
   "metadata": {},
   "outputs": [
    {
     "data": {
      "text/plain": [
       "0.3054545454545455"
      ]
     },
     "execution_count": 35,
     "metadata": {},
     "output_type": "execute_result"
    }
   ],
   "source": [
    "p_res"
   ]
  },
  {
   "cell_type": "code",
   "execution_count": 36,
   "id": "641801e0",
   "metadata": {},
   "outputs": [],
   "source": [
    "no_white_1 = ((count_1-count_1_white)/count_1)  * ((count_1-count_1_white - 1)/(count_1 - 1)) "
   ]
  },
  {
   "cell_type": "code",
   "execution_count": 37,
   "id": "ed0b83d2",
   "metadata": {},
   "outputs": [
    {
     "data": {
      "text/plain": [
       "0.06666666666666667"
      ]
     },
     "execution_count": 37,
     "metadata": {},
     "output_type": "execute_result"
    }
   ],
   "source": [
    "no_white_1"
   ]
  },
  {
   "cell_type": "code",
   "execution_count": 38,
   "id": "06e33972",
   "metadata": {},
   "outputs": [],
   "source": [
    "no_white_2 = ((count_2-count_2_white)/count_2)  * ((count_2-count_2_white - 1)/(count_2 - 1)) "
   ]
  },
  {
   "cell_type": "code",
   "execution_count": 39,
   "id": "d59f7f77",
   "metadata": {},
   "outputs": [
    {
     "data": {
      "text/plain": [
       "0.018181818181818184"
      ]
     },
     "execution_count": 39,
     "metadata": {},
     "output_type": "execute_result"
    }
   ],
   "source": [
    "no_white_2"
   ]
  },
  {
   "cell_type": "code",
   "execution_count": 40,
   "id": "144359df",
   "metadata": {},
   "outputs": [],
   "source": [
    "p_res = 1 - no_white_1*no_white_2"
   ]
  },
  {
   "cell_type": "code",
   "execution_count": 41,
   "id": "7f04640a",
   "metadata": {},
   "outputs": [
    {
     "data": {
      "text/plain": [
       "0.9987878787878788"
      ]
     },
     "execution_count": 41,
     "metadata": {},
     "output_type": "execute_result"
    }
   ],
   "source": [
    "p_res"
   ]
  }
 ],
 "metadata": {
  "kernelspec": {
   "display_name": "Python 3",
   "language": "python",
   "name": "python3"
  },
  "language_info": {
   "codemirror_mode": {
    "name": "ipython",
    "version": 3
   },
   "file_extension": ".py",
   "mimetype": "text/x-python",
   "name": "python",
   "nbconvert_exporter": "python",
   "pygments_lexer": "ipython3",
   "version": "3.7.1rc1"
  }
 },
 "nbformat": 4,
 "nbformat_minor": 5
}
