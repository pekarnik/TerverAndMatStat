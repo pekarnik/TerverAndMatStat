{
 "cells": [
  {
   "cell_type": "markdown",
   "id": "ce1797e9",
   "metadata": {},
   "source": [
    "# Урок 1. Случайные события. Условная вероятность. Формула Байеса. Независимые испытания"
   ]
  },
  {
   "cell_type": "markdown",
   "id": "89c1da26",
   "metadata": {},
   "source": [
    "## Задание 1."
   ]
  },
  {
   "cell_type": "markdown",
   "id": "950421e4",
   "metadata": {},
   "source": [
    "### Из колоды в 52 карты извлекаются случайным образом 4 карты. a) Найти вероятность того, что все карты – крести. б) Найти вероятность, что среди 4-х карт окажется хотя бы один туз."
   ]
  },
  {
   "cell_type": "code",
   "execution_count": 1,
   "id": "50017c8e",
   "metadata": {},
   "outputs": [],
   "source": [
    "from math import factorial"
   ]
  },
  {
   "cell_type": "code",
   "execution_count": 2,
   "id": "919bd74c",
   "metadata": {},
   "outputs": [],
   "source": [
    "def combinations(n, k):\n",
    "    return int(factorial(n) / (factorial(k) * factorial(n - k)))"
   ]
  },
  {
   "cell_type": "code",
   "execution_count": 3,
   "id": "9bfdd89d",
   "metadata": {},
   "outputs": [],
   "source": [
    "all_combinations = combinations(52,4)"
   ]
  },
  {
   "cell_type": "markdown",
   "id": "44a09336",
   "metadata": {},
   "source": [
    "#### a) Найти вероятность того, что все карты – крести"
   ]
  },
  {
   "cell_type": "code",
   "execution_count": 4,
   "id": "85fe64e5",
   "metadata": {},
   "outputs": [],
   "source": [
    "cresti_cards = 52/4"
   ]
  },
  {
   "cell_type": "code",
   "execution_count": 5,
   "id": "1ae02fcc",
   "metadata": {},
   "outputs": [],
   "source": [
    "cresti_combinations = combinations(cresti_cards, 4)"
   ]
  },
  {
   "cell_type": "code",
   "execution_count": 6,
   "id": "603672b3",
   "metadata": {},
   "outputs": [],
   "source": [
    "res_1_a = cresti_combinations/all_combinations"
   ]
  },
  {
   "cell_type": "code",
   "execution_count": 7,
   "id": "27959637",
   "metadata": {},
   "outputs": [
    {
     "data": {
      "text/plain": [
       "0.0026410564225690276"
      ]
     },
     "execution_count": 7,
     "metadata": {},
     "output_type": "execute_result"
    }
   ],
   "source": [
    "res_1_a"
   ]
  },
  {
   "cell_type": "markdown",
   "id": "8f00e4b4",
   "metadata": {},
   "source": [
    "#### б) Найти вероятность, что среди 4-х карт окажется хотя бы один туз."
   ]
  },
  {
   "cell_type": "code",
   "execution_count": 8,
   "id": "877f4b45",
   "metadata": {},
   "outputs": [],
   "source": [
    "tuz_combinations_1 = combinations(4,1)"
   ]
  },
  {
   "cell_type": "code",
   "execution_count": 9,
   "id": "9f75f4f8",
   "metadata": {},
   "outputs": [],
   "source": [
    "other_tuz_combinations_1 = combinations(48,3)"
   ]
  },
  {
   "cell_type": "code",
   "execution_count": 10,
   "id": "1099546b",
   "metadata": {},
   "outputs": [
    {
     "data": {
      "text/plain": [
       "17296"
      ]
     },
     "execution_count": 10,
     "metadata": {},
     "output_type": "execute_result"
    }
   ],
   "source": [
    "other_tuz_combinations_1"
   ]
  },
  {
   "cell_type": "code",
   "execution_count": 11,
   "id": "60a2f32e",
   "metadata": {},
   "outputs": [],
   "source": [
    "var_tuz_combinations_1 = tuz_combinations_1 * other_tuz_combinations_1"
   ]
  },
  {
   "cell_type": "code",
   "execution_count": 12,
   "id": "07a9d20d",
   "metadata": {},
   "outputs": [
    {
     "data": {
      "text/plain": [
       "69184"
      ]
     },
     "execution_count": 12,
     "metadata": {},
     "output_type": "execute_result"
    }
   ],
   "source": [
    "var_tuz_combinations_1"
   ]
  },
  {
   "cell_type": "code",
   "execution_count": 13,
   "id": "3eabeae7",
   "metadata": {},
   "outputs": [],
   "source": [
    "tuz_combinations_2 = combinations(4,2)"
   ]
  },
  {
   "cell_type": "code",
   "execution_count": 14,
   "id": "57e7247a",
   "metadata": {},
   "outputs": [],
   "source": [
    "other_tuz_combinations_2 = combinations(48,2)"
   ]
  },
  {
   "cell_type": "code",
   "execution_count": 15,
   "id": "fda1436f",
   "metadata": {},
   "outputs": [
    {
     "data": {
      "text/plain": [
       "1128"
      ]
     },
     "execution_count": 15,
     "metadata": {},
     "output_type": "execute_result"
    }
   ],
   "source": [
    "other_tuz_combinations_2"
   ]
  },
  {
   "cell_type": "code",
   "execution_count": 16,
   "id": "125070dd",
   "metadata": {},
   "outputs": [],
   "source": [
    "var_tuz_combinations_2 = tuz_combinations_2 * other_tuz_combinations_2"
   ]
  },
  {
   "cell_type": "code",
   "execution_count": 17,
   "id": "375b6d5b",
   "metadata": {},
   "outputs": [
    {
     "data": {
      "text/plain": [
       "6768"
      ]
     },
     "execution_count": 17,
     "metadata": {},
     "output_type": "execute_result"
    }
   ],
   "source": [
    "var_tuz_combinations_2"
   ]
  },
  {
   "cell_type": "code",
   "execution_count": 18,
   "id": "7b78943b",
   "metadata": {},
   "outputs": [],
   "source": [
    "tuz_combinations_3 = combinations(4,3)"
   ]
  },
  {
   "cell_type": "code",
   "execution_count": 19,
   "id": "51b867ae",
   "metadata": {},
   "outputs": [],
   "source": [
    "other_tuz_combinations_3 = combinations(48,1)"
   ]
  },
  {
   "cell_type": "code",
   "execution_count": 20,
   "id": "0870b2fe",
   "metadata": {},
   "outputs": [
    {
     "data": {
      "text/plain": [
       "48"
      ]
     },
     "execution_count": 20,
     "metadata": {},
     "output_type": "execute_result"
    }
   ],
   "source": [
    "other_tuz_combinations_3"
   ]
  },
  {
   "cell_type": "code",
   "execution_count": 21,
   "id": "75bc20df",
   "metadata": {},
   "outputs": [],
   "source": [
    "var_tuz_combinations_3 = tuz_combinations_3 * other_tuz_combinations_3"
   ]
  },
  {
   "cell_type": "code",
   "execution_count": 22,
   "id": "e95837a8",
   "metadata": {},
   "outputs": [
    {
     "data": {
      "text/plain": [
       "192"
      ]
     },
     "execution_count": 22,
     "metadata": {},
     "output_type": "execute_result"
    }
   ],
   "source": [
    "var_tuz_combinations_3"
   ]
  },
  {
   "cell_type": "code",
   "execution_count": 23,
   "id": "5f7da61b",
   "metadata": {},
   "outputs": [],
   "source": [
    "tuz_combinations_4 = combinations(4,4)"
   ]
  },
  {
   "cell_type": "code",
   "execution_count": 24,
   "id": "9fa24d6e",
   "metadata": {},
   "outputs": [],
   "source": [
    "var_tuz_combinations_4 = tuz_combinations_4"
   ]
  },
  {
   "cell_type": "code",
   "execution_count": 25,
   "id": "14daaf8b",
   "metadata": {},
   "outputs": [
    {
     "data": {
      "text/plain": [
       "1"
      ]
     },
     "execution_count": 25,
     "metadata": {},
     "output_type": "execute_result"
    }
   ],
   "source": [
    "var_tuz_combinations_4"
   ]
  },
  {
   "cell_type": "code",
   "execution_count": 26,
   "id": "da333c1c",
   "metadata": {},
   "outputs": [],
   "source": [
    "all_tuz_combinations = var_tuz_combinations_1 + var_tuz_combinations_2 + var_tuz_combinations_3 + var_tuz_combinations_4"
   ]
  },
  {
   "cell_type": "code",
   "execution_count": 27,
   "id": "fb5fb0b1",
   "metadata": {},
   "outputs": [],
   "source": [
    "res_1_b = all_tuz_combinations/all_combinations"
   ]
  },
  {
   "cell_type": "code",
   "execution_count": 28,
   "id": "50a48540",
   "metadata": {},
   "outputs": [
    {
     "data": {
      "text/plain": [
       "0.2812632745405855"
      ]
     },
     "execution_count": 28,
     "metadata": {},
     "output_type": "execute_result"
    }
   ],
   "source": [
    "res_1_b"
   ]
  },
  {
   "cell_type": "markdown",
   "id": "e36fd8df",
   "metadata": {},
   "source": [
    "## Задание 2."
   ]
  },
  {
   "cell_type": "markdown",
   "id": "1ddad36a",
   "metadata": {},
   "source": [
    "### На входной двери подъезда установлен кодовый замок, содержащий десять кнопок с цифрами от 0 до 9. Код содержит три цифры, которые нужно нажать одновременно. Какова вероятность того, что человек, не знающий код, откроет дверь с первой попытки?"
   ]
  },
  {
   "cell_type": "code",
   "execution_count": 29,
   "id": "0c7dac6e",
   "metadata": {},
   "outputs": [],
   "source": [
    "code_combinations = combinations(10,3)"
   ]
  },
  {
   "cell_type": "code",
   "execution_count": 30,
   "id": "383b8984",
   "metadata": {},
   "outputs": [],
   "source": [
    "res_2 = 1/code_combinations"
   ]
  },
  {
   "cell_type": "code",
   "execution_count": 31,
   "id": "310e5f2a",
   "metadata": {},
   "outputs": [
    {
     "data": {
      "text/plain": [
       "0.008333333333333333"
      ]
     },
     "execution_count": 31,
     "metadata": {},
     "output_type": "execute_result"
    }
   ],
   "source": [
    "res_2"
   ]
  },
  {
   "cell_type": "markdown",
   "id": "e64b803f",
   "metadata": {},
   "source": [
    "## Задание 3."
   ]
  },
  {
   "cell_type": "markdown",
   "id": "7aba0ae5",
   "metadata": {},
   "source": [
    "### В ящике имеется 15 деталей, из которых 9 окрашены. Рабочий случайным образом извлекает 3 детали. Какова вероятность того, что все извлеченные детали окрашены?"
   ]
  },
  {
   "cell_type": "code",
   "execution_count": 32,
   "id": "c70f1163",
   "metadata": {},
   "outputs": [],
   "source": [
    "right_combinations_1 = 9/15"
   ]
  },
  {
   "cell_type": "code",
   "execution_count": 33,
   "id": "7b76ac23",
   "metadata": {},
   "outputs": [],
   "source": [
    "right_combinations_2 = 8/14"
   ]
  },
  {
   "cell_type": "code",
   "execution_count": 34,
   "id": "c80d5829",
   "metadata": {},
   "outputs": [],
   "source": [
    "right_combinations_3 = 7/13"
   ]
  },
  {
   "cell_type": "code",
   "execution_count": 35,
   "id": "e12ee5a3",
   "metadata": {},
   "outputs": [],
   "source": [
    "res_3 = right_combinations_1 * right_combinations_2 * right_combinations_3"
   ]
  },
  {
   "cell_type": "code",
   "execution_count": 36,
   "id": "2b70adcb",
   "metadata": {},
   "outputs": [
    {
     "data": {
      "text/plain": [
       "0.18461538461538457"
      ]
     },
     "execution_count": 36,
     "metadata": {},
     "output_type": "execute_result"
    }
   ],
   "source": [
    "res_3"
   ]
  },
  {
   "cell_type": "markdown",
   "id": "4da16b29",
   "metadata": {},
   "source": [
    "## Задание 4."
   ]
  },
  {
   "cell_type": "markdown",
   "id": "53a5af72",
   "metadata": {},
   "source": [
    "#### В лотерее 100 билетов. Из них 2 выигрышных. Какова вероятность того, что 2 приобретенных билета окажутся выигрышными?"
   ]
  },
  {
   "cell_type": "code",
   "execution_count": 37,
   "id": "e9961396",
   "metadata": {},
   "outputs": [],
   "source": [
    "right_ticket_1 = 2/100"
   ]
  },
  {
   "cell_type": "code",
   "execution_count": 38,
   "id": "3dae6645",
   "metadata": {},
   "outputs": [],
   "source": [
    "right_ticket_2 = 1/99"
   ]
  },
  {
   "cell_type": "code",
   "execution_count": 39,
   "id": "6ba4b55a",
   "metadata": {},
   "outputs": [],
   "source": [
    "res_4 = right_ticket_1 * right_ticket_2"
   ]
  },
  {
   "cell_type": "code",
   "execution_count": 40,
   "id": "8af09245",
   "metadata": {},
   "outputs": [
    {
     "data": {
      "text/plain": [
       "0.00020202020202020205"
      ]
     },
     "execution_count": 40,
     "metadata": {},
     "output_type": "execute_result"
    }
   ],
   "source": [
    "res_4"
   ]
  },
  {
   "cell_type": "code",
   "execution_count": null,
   "id": "b28d3594",
   "metadata": {},
   "outputs": [],
   "source": []
  }
 ],
 "metadata": {
  "kernelspec": {
   "display_name": "Python 3",
   "language": "python",
   "name": "python3"
  },
  "language_info": {
   "codemirror_mode": {
    "name": "ipython",
    "version": 3
   },
   "file_extension": ".py",
   "mimetype": "text/x-python",
   "name": "python",
   "nbconvert_exporter": "python",
   "pygments_lexer": "ipython3",
   "version": "3.7.1rc1"
  }
 },
 "nbformat": 4,
 "nbformat_minor": 5
}
